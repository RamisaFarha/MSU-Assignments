{
  "nbformat": 4,
  "nbformat_minor": 0,
  "metadata": {
    "colab": {
      "provenance": []
    },
    "kernelspec": {
      "name": "python3",
      "display_name": "Python 3"
    },
    "language_info": {
      "name": "python"
    }
  },
  "cells": [
    {
      "cell_type": "markdown",
      "source": [
        "**Question 01**"
      ],
      "metadata": {
        "id": "tyS4n0O5lO1A"
      }
    },
    {
      "cell_type": "code",
      "execution_count": 43,
      "metadata": {
        "id": "vHjHYpDq8yjZ",
        "colab": {
          "base_uri": "https://localhost:8080/"
        },
        "outputId": "ce2175c4-f670-408d-c50a-302df1aeb1ef"
      },
      "outputs": [
        {
          "output_type": "stream",
          "name": "stdout",
          "text": [
            "Student gpas: [2.72, 3.25, 2.05, 3.5, 3.68, 3.87, 3.14, 2.68, 3.21, 2.45, 3.91, 2.81, 3.06, 2.7, 2.58, 3.71, 3.21, 3.95, 2.99, 2.41]\n",
            "Highest two gpas: [3.91, 3.95]\n",
            "Lowest two gpas: [2.05, 2.41]\n",
            "New list of gpas: [2.45, 2.58, 2.68, 2.7, 2.72, 2.81, 2.99, 3.06, 3.14, 3.21, 3.21, 3.25, 3.5, 3.68, 3.71, 3.87]\n",
            "Average gpa: 3.1\n",
            "Original gpas: [2.72, 3.25, 2.05, 3.5, 3.68, 3.87, 3.14, 2.68, 3.21, 2.45, 3.91, 2.81, 3.06, 2.7, 2.58, 3.71, 3.21, 3.95, 2.99, 2.41]\n",
            "Rearranged gpas: [3.91, 2.81, 3.06, 2.7, 2.58, 3.71, 3.21, 3.95, 2.99, 2.41, 2.72, 3.25, 2.05, 3.5, 3.68, 3.87, 3.14, 2.68, 3.21, 2.45]\n"
          ]
        }
      ],
      "source": [
        "import random\n",
        "import numpy as np\n",
        "\n",
        "# Part a: A list of GPAs between 2.0 and 4.0\n",
        "student_gpas = [round(random.uniform(2.0, 4.0), 2) for _ in range(20)]\n",
        "print(\"Student gpas:\", student_gpas)\n",
        "\n",
        "# Part b: The highest two and lowest two GPAs\n",
        "sorted_student_gpas = sorted(student_gpas)\n",
        "highest_two = sorted_student_gpas[-2:]\n",
        "lowest_two = sorted_student_gpas[:2]\n",
        "print(\"Highest two gpas:\", highest_two)\n",
        "print(\"Lowest two gpas:\", lowest_two)\n",
        "\n",
        "# Part c: Dropping highest and lowest and calculate new list and average\n",
        "new_gpas = sorted_student_gpas[2:-2]\n",
        "average_gpa = round(np.mean(new_gpas), 2)\n",
        "print(\"New list of gpas:\", new_gpas)\n",
        "print(\"Average gpa:\", average_gpa)\n",
        "\n",
        "# Part d: Switch the first and second halves of the list\n",
        "n = len(student_gpas)\n",
        "# Spliting the list into two halves and swaping their positions\n",
        "rearranged_gpas = student_gpas[n//2:] + student_gpas[:n//2]\n",
        "print(\"Original gpas:\", student_gpas)\n",
        "print(\"Rearranged gpas:\", rearranged_gpas)"
      ]
    },
    {
      "cell_type": "code",
      "source": [
        "# Part e: Repeating all operations using NumPy\n",
        "gpas_np = np.array(student_gpas)\n",
        "print(\"Student gpas (using NumPy):\", student_gpas)\n",
        "\n",
        "# Highest and Lowest\n",
        "highest_two_np = np.sort(gpas_np)[-2:]\n",
        "lowest_two_np = np.sort(gpas_np)[:2]\n",
        "print(\"Highest two gpas (using NumPy): \", highest_two_np)\n",
        "print(\"Lowest two gpas (using NumPy): \", lowest_two_np)\n",
        "\n",
        "# Dropping highest and lowest and calculate average\n",
        "new_gpas_np = np.sort(gpas_np)[2:-2]\n",
        "average_gpa_np = round(np.mean(new_gpas_np), 2)\n",
        "print(\"New ilst (using NumPy): \", new_gpas_np)\n",
        "print(\"Average gpa (using NumPy): \", average_gpa_np)\n",
        "\n",
        "# Rearrange halves\n",
        "rearranged_gpas_np = np.concatenate((gpas_np[n//2:], gpas_np[:n//2]))\n",
        "print(\"Original gpas:\", student_gpas)\n",
        "print(\"Rearranged gpas (using NumPy):\", rearranged_gpas_np)"
      ],
      "metadata": {
        "colab": {
          "base_uri": "https://localhost:8080/"
        },
        "id": "5de5EqSvfCv-",
        "outputId": "43e7c349-13a8-4529-8be6-d5a6ce9f69fb"
      },
      "execution_count": 44,
      "outputs": [
        {
          "output_type": "stream",
          "name": "stdout",
          "text": [
            "Student gpas (using NumPy): [2.72, 3.25, 2.05, 3.5, 3.68, 3.87, 3.14, 2.68, 3.21, 2.45, 3.91, 2.81, 3.06, 2.7, 2.58, 3.71, 3.21, 3.95, 2.99, 2.41]\n",
            "Highest two gpas (using NumPy):  [3.91 3.95]\n",
            "Lowest two gpas (using NumPy):  [2.05 2.41]\n",
            "New ilst (using NumPy):  [2.45 2.58 2.68 2.7  2.72 2.81 2.99 3.06 3.14 3.21 3.21 3.25 3.5  3.68\n",
            " 3.71 3.87]\n",
            "Average gpa (using NumPy):  3.1\n",
            "Original gpas: [2.72, 3.25, 2.05, 3.5, 3.68, 3.87, 3.14, 2.68, 3.21, 2.45, 3.91, 2.81, 3.06, 2.7, 2.58, 3.71, 3.21, 3.95, 2.99, 2.41]\n",
            "Rearranged gpas (using NumPy): [3.91 2.81 3.06 2.7  2.58 3.71 3.21 3.95 2.99 2.41 2.72 3.25 2.05 3.5\n",
            " 3.68 3.87 3.14 2.68 3.21 2.45]\n"
          ]
        }
      ]
    },
    {
      "cell_type": "markdown",
      "source": [
        "**Looking at the outputs, we can see that there actually aren't any numerical differences between the Python and NumPy results because they produced exactly the same values.**"
      ],
      "metadata": {
        "id": "0NWEbvdZhTCH"
      }
    },
    {
      "cell_type": "markdown",
      "source": [
        "**Question 02**"
      ],
      "metadata": {
        "id": "hNcFCM7vlXK0"
      }
    },
    {
      "cell_type": "code",
      "source": [
        "import numpy as np\n",
        "\n",
        "# Part a: array of shape (5, 5) filled with random integers between 1 and 20 and replace third column with 1\n",
        "array_a = np.random.randint(1, 21, size=(5, 5))\n",
        "array_a[:, 2] = 1\n",
        "print(\"a. (5,5) shape array with third column as 1:\")\n",
        "print(array_a)\n",
        "print()\n",
        "\n",
        "# Part b: (4,4) shape array with diagonal as 0\n",
        "array_b = np.arange(1, 17).reshape(4, 4)\n",
        "np.fill_diagonal(array_b, 0)\n",
        "print(\"b. (4,4) shape array with diagonal as 0:\")\n",
        "print(array_b)\n",
        "print()\n",
        "\n",
        "# Part c: (5,5) shape array with integers in the range of 0 to 100 and extract border elements\n",
        "array_c = np.random.randint(0, 101, size=(5, 5))\n",
        "print(\"c. Original (5,5) shape array:\")\n",
        "print(array_c)\n",
        "\n",
        "# Getting border elements\n",
        "border_elements = np.concatenate([\n",
        "    array_c[0, :-1],   # Top row\n",
        "    array_c[:-1, -1],  # Right column\n",
        "    array_c[-1, :0:-1],# Bottom row\n",
        "    array_c[:0:-1, 0]  # Left column\n",
        "])\n",
        "\n",
        "# Getting corners\n",
        "corners = array_c[[0, 0, -1, -1], [0, -1, 0, -1]]\n",
        "\n",
        "print(\"Border elements:\", border_elements)\n",
        "print(\"Corner elements:\", corners)\n",
        "print()\n",
        "\n",
        "# Part d: (3,3) shape normalized array\n",
        "array_d = np.arange(1, 10).reshape(3, 3)\n",
        "normalized = (array_d - np.mean(array_d)) / np.std(array_d)\n",
        "print(\"d. Original (3,3) shape array:\")\n",
        "print(array_d)\n",
        "print(\"Normalized array:\")\n",
        "print(normalized)\n",
        "print()\n",
        "\n",
        "# Part e: (4,4) shape array and replace elements greater than 10 with 10\n",
        "array_e = np.random.randint(1, 20, size=(4, 4))\n",
        "print(\"e. Original array:\")\n",
        "print(array_e)\n",
        "array_e[array_e > 10] = 10\n",
        "print(\"Array with elements greater than 10 replace with 10:\")\n",
        "print(array_e)\n",
        "print()\n",
        "\n",
        "# Part f: Function to reverse 1D array and returns a new array\n",
        "def reverse_array(array):\n",
        "    return array[::-1]\n",
        "\n",
        "array_f = np.array([1, 2, 3, 4, 5])\n",
        "reversed_array = reverse_array(array_f)\n",
        "print(\"f. Original array:\", array_f)\n",
        "print(\"Reversed array:\", reversed_array)"
      ],
      "metadata": {
        "colab": {
          "base_uri": "https://localhost:8080/"
        },
        "id": "mLX_o58HhdGE",
        "outputId": "7b0c8d5c-9238-4c75-c9db-75af14bff5a7"
      },
      "execution_count": 45,
      "outputs": [
        {
          "output_type": "stream",
          "name": "stdout",
          "text": [
            "a. (5,5) shape array with third column as 1:\n",
            "[[10  5  1  1 12]\n",
            " [20  9  1  3  5]\n",
            " [ 2  4  1  4  9]\n",
            " [15 12  1 19  2]\n",
            " [ 7 10  1 20 12]]\n",
            "\n",
            "b. (4,4) shape array with diagonal as 0:\n",
            "[[ 0  2  3  4]\n",
            " [ 5  0  7  8]\n",
            " [ 9 10  0 12]\n",
            " [13 14 15  0]]\n",
            "\n",
            "c. Original (5,5) shape array:\n",
            "[[47 79 70 29 56]\n",
            " [ 3 73 75 88 10]\n",
            " [93 54 34 80 39]\n",
            " [48 59 47 41 46]\n",
            " [97 38 85 64 90]]\n",
            "Border elements: [47 79 70 29 56 10 39 46 90 64 85 38 97 48 93  3]\n",
            "Corner elements: [47 56 97 90]\n",
            "\n",
            "d. Original (3,3) shape array:\n",
            "[[1 2 3]\n",
            " [4 5 6]\n",
            " [7 8 9]]\n",
            "Normalized array:\n",
            "[[-1.54919334 -1.161895   -0.77459667]\n",
            " [-0.38729833  0.          0.38729833]\n",
            " [ 0.77459667  1.161895    1.54919334]]\n",
            "\n",
            "e. Original array:\n",
            "[[ 3 15  4  9]\n",
            " [16  8 19  5]\n",
            " [18  2 13 10]\n",
            " [ 5 18 19  1]]\n",
            "Array with elements greater than 10 replace with 10:\n",
            "[[ 3 10  4  9]\n",
            " [10  8 10  5]\n",
            " [10  2 10 10]\n",
            " [ 5 10 10  1]]\n",
            "\n",
            "f. Original array: [1 2 3 4 5]\n",
            "Reversed array: [5 4 3 2 1]\n"
          ]
        }
      ]
    },
    {
      "cell_type": "markdown",
      "source": [
        "**Question 03**"
      ],
      "metadata": {
        "id": "qAw9wn-71CJc"
      }
    },
    {
      "cell_type": "markdown",
      "source": [
        "Performing statistical analysis on temperature data stored in NumPy arrays"
      ],
      "metadata": {
        "id": "Oikux0GC1FWF"
      }
    },
    {
      "cell_type": "code",
      "source": [
        "# Part a: Store the average monthly temperatures of Baltimore\n",
        "min_temps = np.array([30.5, 38.4, 48.1, 56.8, 65.2, 75.9, 83.6, 86.5, 75.3, 64.6, 58.1, 45.4])\n",
        "max_temps = np.array([48.2, 50.3, 58.7, 61.9, 70.5, 82.4, 88.2, 93.1, 86.7, 77.5, 67.2, 53.6])\n",
        "print(\"a. Stored the given information using NumPy arrays\")\n",
        "\n",
        "# Part b: Calculate yearly statistics for min and max temperatures\n",
        "min_avg = min_temps.mean()\n",
        "min_max = min_temps.max()\n",
        "min_min = min_temps.min()\n",
        "\n",
        "max_avg = max_temps.mean()\n",
        "max_max = max_temps.max()\n",
        "max_min = max_temps.min()\n",
        "print(\"b. Yearly Statistics:\")\n",
        "print(\"Min Temperatures - Average:\", min_avg, \", Max:\", min_max, \", Min:\", min_min)\n",
        "print(\"Max Temperatures - Average:\", max_avg, \", Max:\", max_max, \", Min:\", max_min)\n",
        "print()\n",
        "\n",
        "# Part c: Average temperatures in Q1 (Jan-Mar) and Q4 (Oct-Dec)\n",
        "q1_min_avg = min_temps[:3].mean()\n",
        "q1_max_avg = max_temps[:3].mean()\n",
        "\n",
        "q4_min_avg = min_temps[-3:].mean()\n",
        "q4_max_avg = max_temps[-3:].mean()\n",
        "\n",
        "print(\"c. Quarterly Averages:\")\n",
        "print(\"Q1 (Jan-Mar) Min Avg:\", q1_min_avg, \", Max Avg:\", q1_max_avg)\n",
        "print(\"Q4 (Oct-Dec) Min Avg:\", q4_min_avg, \", Max Avg:\", q4_max_avg)\n",
        "print()\n",
        "\n",
        "# Part d: Monthly average temperatures using mean() and dot product\n",
        "monthly_avg_mean = (min_temps + max_temps) / 2\n",
        "weights = np.array([0.5, 0.5])  # Equal weights for min and max\n",
        "monthly_avg_dot = np.dot(np.vstack((min_temps, max_temps)).T, weights)\n",
        "\n",
        "print(\"d. Monthly Average Temperatures:\")\n",
        "print(\"Using mean():\", monthly_avg_mean)\n",
        "print(\"Using dot product:\", monthly_avg_dot)"
      ],
      "metadata": {
        "colab": {
          "base_uri": "https://localhost:8080/"
        },
        "id": "RQMS5M1H1gMH",
        "outputId": "93b19ea6-7cca-4659-be09-c856f3c4e480"
      },
      "execution_count": 46,
      "outputs": [
        {
          "output_type": "stream",
          "name": "stdout",
          "text": [
            "a. Stored the given information using NumPy arrays\n",
            "b. Yearly Statistics:\n",
            "Min Temperatures - Average: 60.70000000000001 , Max: 86.5 , Min: 30.5\n",
            "Max Temperatures - Average: 69.85833333333335 , Max: 93.1 , Min: 48.2\n",
            "\n",
            "c. Quarterly Averages:\n",
            "Q1 (Jan-Mar) Min Avg: 39.0 , Max Avg: 52.4\n",
            "Q4 (Oct-Dec) Min Avg: 56.03333333333333 , Max Avg: 66.1\n",
            "\n",
            "d. Monthly Average Temperatures:\n",
            "Using mean(): [39.35 44.35 53.4  59.35 67.85 79.15 85.9  89.8  81.   71.05 62.65 49.5 ]\n",
            "Using dot product: [39.35 44.35 53.4  59.35 67.85 79.15 85.9  89.8  81.   71.05 62.65 49.5 ]\n"
          ]
        }
      ]
    },
    {
      "cell_type": "markdown",
      "source": [
        "**Question 04**"
      ],
      "metadata": {
        "id": "qcKBGV9TWB_N"
      }
    },
    {
      "cell_type": "code",
      "source": [
        "# Generate grades as an array of 60 random grades in the range of 60 through 100 and reshape to 20x3\n",
        "grades = np.random.randint(60, 101, size=60).reshape(20, 3)\n",
        "print(\"Original grades array (20 students x 3 exams):\")\n",
        "print(grades)\n",
        "print()\n",
        "\n",
        "# Part a: Average grades for each column (exam) and row (student)\n",
        "\n",
        "col_averages = np.mean(grades, axis=0) # Average for each column (Midterm1, Midterm2, Final)\n",
        "row_averages = np.mean(grades, axis=1) # Average for each row (students)\n",
        "\n",
        "print(\"a. Column averages (Midterm1, Midterm2, Final):\", col_averages)\n",
        "print(\"Row averages (each student):\", row_averages)\n",
        "print()\n",
        "\n",
        "# Part b: Maximum and minimum scores for Midterm1, Midterm 2 and Final\n",
        "max_scores = np.max(grades, axis=0)\n",
        "min_scores = np.min(grades, axis=0)\n",
        "print(\"b. Maximum scores (Midterm1, Midterm2, Final):\", max_scores)\n",
        "print(\"Minimum scores (Midterm1, Midterm2, Final):\", min_scores)\n",
        "print()"
      ],
      "metadata": {
        "colab": {
          "base_uri": "https://localhost:8080/"
        },
        "id": "7fe6HKycWEcB",
        "outputId": "f3e68b0a-5825-4ac7-ee6d-dae917916006"
      },
      "execution_count": 47,
      "outputs": [
        {
          "output_type": "stream",
          "name": "stdout",
          "text": [
            "Original grades array (20 students x 3 exams):\n",
            "[[ 75  80  72]\n",
            " [ 89  91  95]\n",
            " [ 78  60  96]\n",
            " [ 78  95  60]\n",
            " [ 93  92  86]\n",
            " [ 63  91  68]\n",
            " [ 61  69  87]\n",
            " [ 78  76  65]\n",
            " [ 65  87  67]\n",
            " [ 81  66  62]\n",
            " [100  81  67]\n",
            " [ 71  91  72]\n",
            " [ 84  74  71]\n",
            " [ 93  86  77]\n",
            " [ 90  70  68]\n",
            " [ 70  68  83]\n",
            " [ 82  66  86]\n",
            " [ 74  98  78]\n",
            " [ 98  67  74]\n",
            " [ 88  63  81]]\n",
            "\n",
            "a. Column averages (Midterm1, Midterm2, Final): [80.55 78.55 75.75]\n",
            "Row averages (each student): [75.66666667 91.66666667 78.         77.66666667 90.33333333 74.\n",
            " 72.33333333 73.         73.         69.66666667 82.66666667 78.\n",
            " 76.33333333 85.33333333 76.         73.66666667 78.         83.33333333\n",
            " 79.66666667 77.33333333]\n",
            "\n",
            "b. Maximum scores (Midterm1, Midterm2, Final): [100  98  96]\n",
            "Minimum scores (Midterm1, Midterm2, Final): [61 60 60]\n",
            "\n"
          ]
        }
      ]
    },
    {
      "cell_type": "markdown",
      "source": [
        "**Part c:**\n",
        "Calculating average grade of the first two and last two students can have two interpretations\n",
        "\n",
        "**Interpretation 1:** Combined average for the first two students  \n",
        "**Interpretation 2:** Individual averages for the first two students\n",
        "\n",
        "But from part a we already got each students individual average, so I think for this question the combined group average (Interpretation 1) is most suitable.\n"
      ],
      "metadata": {
        "id": "utp48a7S1MRG"
      }
    },
    {
      "cell_type": "code",
      "source": [
        "# Part c: Average grade of first two and last two students\n",
        "first_two_avg = np.mean(grades[:2])\n",
        "last_two_avg = np.mean(grades[-2:])\n",
        "print(\"c. First two students' average grade:\", first_two_avg)\n",
        "print(\"Last two students' average grade:\", last_two_avg)"
      ],
      "metadata": {
        "colab": {
          "base_uri": "https://localhost:8080/"
        },
        "id": "N2jY2_kH02Ya",
        "outputId": "55f928ae-cc86-415f-eeb7-c8959f8a969d"
      },
      "execution_count": 48,
      "outputs": [
        {
          "output_type": "stream",
          "name": "stdout",
          "text": [
            "c. First two students' average grade: 83.66666666666667\n",
            "Last two students' average grade: 78.5\n"
          ]
        }
      ]
    },
    {
      "cell_type": "code",
      "source": [
        "# Part d: Average of Midterm 1 and 2 for the first 10 students\n",
        "midterms_avg = np.mean(grades[:10, :2])\n",
        "print(\"d. First 10 students Midterm 1 and 2 average:\", midterms_avg)\n",
        "print()\n",
        "\n",
        "# Part e: All the students who received >=75 in midterm 2 or Final exam\n",
        "high_scores = (grades[:, 1] >= 75) | (grades[:, 2] >= 75)\n",
        "students_high = grades[high_scores]\n",
        "print(\"e. Students with >=75 in Midterm2 or Final:\")\n",
        "print(students_high)\n",
        "print()\n",
        "\n",
        "# Part f: Change any scores <80 to 80, calculate average of Midterm1 and Final for alternate students\n",
        "\n",
        "grades_80 = np.where(grades < 80, 80, grades) # Replacing scores <80 with 80\n",
        "\n",
        "# Average of Midterm1 and Final for alternate students\n",
        "alt_avg = np.mean(grades_80[::2, [0, 2]])\n",
        "\n",
        "print(\"f. Average of Midterm1 and Final for alternate students after setting <80 to 80:\", alt_avg)\n",
        "print()\n",
        "\n",
        "# Part g: Weighted(Weights: Midterm1 30%, Midterm2 30%, Final 40%) average for the first 10 students\n",
        "weights = np.array([0.3, 0.3, 0.4])\n",
        "weighted_avg = np.sum(grades[:10] * weights, axis=1)\n",
        "print(\"g. Weighted averages for first 10 students:\", weighted_avg)\n",
        "print()\n",
        "\n",
        "# Part h: Increase Midterms by 10%, decrease Final by 5%\n",
        "adjusted_grades = grades.astype(float)  # Converted grades to float64 to handle multiplications by floats\n",
        "adjusted_grades[:, :2] *= 1.1\n",
        "adjusted_grades[:, 2] *= 0.95\n",
        "print(\"h. Adjusted grades Midterms by 10%, decrease Final by 5%:\")\n",
        "print(adjusted_grades)\n",
        "print()\n",
        "\n",
        "# Part i: Rescale scores based on the maximum in each column\n",
        "max_scores = np.max(grades, axis=0)\n",
        "rescaled_grades = (grades / max_scores) * 100\n",
        "print(\"i. Rescaled grades (based on column max):\")\n",
        "print(rescaled_grades)"
      ],
      "metadata": {
        "colab": {
          "base_uri": "https://localhost:8080/"
        },
        "id": "9IrAiy_k05vH",
        "outputId": "55f24c99-3d9e-49b6-b451-8248afda3b18"
      },
      "execution_count": 49,
      "outputs": [
        {
          "output_type": "stream",
          "name": "stdout",
          "text": [
            "d. First 10 students Midterm 1 and 2 average: 78.4\n",
            "\n",
            "e. Students with >=75 in Midterm2 or Final:\n",
            "[[ 75  80  72]\n",
            " [ 89  91  95]\n",
            " [ 78  60  96]\n",
            " [ 78  95  60]\n",
            " [ 93  92  86]\n",
            " [ 63  91  68]\n",
            " [ 61  69  87]\n",
            " [ 78  76  65]\n",
            " [ 65  87  67]\n",
            " [100  81  67]\n",
            " [ 71  91  72]\n",
            " [ 93  86  77]\n",
            " [ 70  68  83]\n",
            " [ 82  66  86]\n",
            " [ 74  98  78]\n",
            " [ 88  63  81]]\n",
            "\n",
            "f. Average of Midterm1 and Final for alternate students after setting <80 to 80: 85.1\n",
            "\n",
            "g. Weighted averages for first 10 students: [75.3 92.  79.8 75.9 89.9 73.4 73.8 72.2 72.4 68.9]\n",
            "\n",
            "h. Adjusted grades Midterms by 10%, decrease Final by 5%:\n",
            "[[ 82.5   88.    68.4 ]\n",
            " [ 97.9  100.1   90.25]\n",
            " [ 85.8   66.    91.2 ]\n",
            " [ 85.8  104.5   57.  ]\n",
            " [102.3  101.2   81.7 ]\n",
            " [ 69.3  100.1   64.6 ]\n",
            " [ 67.1   75.9   82.65]\n",
            " [ 85.8   83.6   61.75]\n",
            " [ 71.5   95.7   63.65]\n",
            " [ 89.1   72.6   58.9 ]\n",
            " [110.    89.1   63.65]\n",
            " [ 78.1  100.1   68.4 ]\n",
            " [ 92.4   81.4   67.45]\n",
            " [102.3   94.6   73.15]\n",
            " [ 99.    77.    64.6 ]\n",
            " [ 77.    74.8   78.85]\n",
            " [ 90.2   72.6   81.7 ]\n",
            " [ 81.4  107.8   74.1 ]\n",
            " [107.8   73.7   70.3 ]\n",
            " [ 96.8   69.3   76.95]]\n",
            "\n",
            "i. Rescaled grades (based on column max):\n",
            "[[ 75.          81.63265306  75.        ]\n",
            " [ 89.          92.85714286  98.95833333]\n",
            " [ 78.          61.2244898  100.        ]\n",
            " [ 78.          96.93877551  62.5       ]\n",
            " [ 93.          93.87755102  89.58333333]\n",
            " [ 63.          92.85714286  70.83333333]\n",
            " [ 61.          70.40816327  90.625     ]\n",
            " [ 78.          77.55102041  67.70833333]\n",
            " [ 65.          88.7755102   69.79166667]\n",
            " [ 81.          67.34693878  64.58333333]\n",
            " [100.          82.65306122  69.79166667]\n",
            " [ 71.          92.85714286  75.        ]\n",
            " [ 84.          75.51020408  73.95833333]\n",
            " [ 93.          87.75510204  80.20833333]\n",
            " [ 90.          71.42857143  70.83333333]\n",
            " [ 70.          69.3877551   86.45833333]\n",
            " [ 82.          67.34693878  89.58333333]\n",
            " [ 74.         100.          81.25      ]\n",
            " [ 98.          68.36734694  77.08333333]\n",
            " [ 88.          64.28571429  84.375     ]]\n"
          ]
        }
      ]
    }
  ]
}