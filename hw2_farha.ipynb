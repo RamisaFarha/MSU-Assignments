{
  "nbformat": 4,
  "nbformat_minor": 0,
  "metadata": {
    "colab": {
      "provenance": []
    },
    "kernelspec": {
      "name": "python3",
      "display_name": "Python 3"
    },
    "language_info": {
      "name": "python"
    }
  },
  "cells": [
    {
      "cell_type": "markdown",
      "source": [
        "**Question 1**"
      ],
      "metadata": {
        "id": "PIfRQ8MWGID4"
      }
    },
    {
      "cell_type": "code",
      "execution_count": null,
      "metadata": {
        "id": "_asjFcy2-A9A",
        "colab": {
          "base_uri": "https://localhost:8080/",
          "height": 73
        },
        "outputId": "d8c4252d-ad1b-418d-d90f-1c9ef45d5b1f"
      },
      "outputs": [
        {
          "output_type": "display_data",
          "data": {
            "text/plain": [
              "<IPython.core.display.HTML object>"
            ],
            "text/html": [
              "\n",
              "     <input type=\"file\" id=\"files-c1f91ec1-af45-48f1-b3ef-90b1e9b4108c\" name=\"files[]\" multiple disabled\n",
              "        style=\"border:none\" />\n",
              "     <output id=\"result-c1f91ec1-af45-48f1-b3ef-90b1e9b4108c\">\n",
              "      Upload widget is only available when the cell has been executed in the\n",
              "      current browser session. Please rerun this cell to enable.\n",
              "      </output>\n",
              "      <script>// Copyright 2017 Google LLC\n",
              "//\n",
              "// Licensed under the Apache License, Version 2.0 (the \"License\");\n",
              "// you may not use this file except in compliance with the License.\n",
              "// You may obtain a copy of the License at\n",
              "//\n",
              "//      http://www.apache.org/licenses/LICENSE-2.0\n",
              "//\n",
              "// Unless required by applicable law or agreed to in writing, software\n",
              "// distributed under the License is distributed on an \"AS IS\" BASIS,\n",
              "// WITHOUT WARRANTIES OR CONDITIONS OF ANY KIND, either express or implied.\n",
              "// See the License for the specific language governing permissions and\n",
              "// limitations under the License.\n",
              "\n",
              "/**\n",
              " * @fileoverview Helpers for google.colab Python module.\n",
              " */\n",
              "(function(scope) {\n",
              "function span(text, styleAttributes = {}) {\n",
              "  const element = document.createElement('span');\n",
              "  element.textContent = text;\n",
              "  for (const key of Object.keys(styleAttributes)) {\n",
              "    element.style[key] = styleAttributes[key];\n",
              "  }\n",
              "  return element;\n",
              "}\n",
              "\n",
              "// Max number of bytes which will be uploaded at a time.\n",
              "const MAX_PAYLOAD_SIZE = 100 * 1024;\n",
              "\n",
              "function _uploadFiles(inputId, outputId) {\n",
              "  const steps = uploadFilesStep(inputId, outputId);\n",
              "  const outputElement = document.getElementById(outputId);\n",
              "  // Cache steps on the outputElement to make it available for the next call\n",
              "  // to uploadFilesContinue from Python.\n",
              "  outputElement.steps = steps;\n",
              "\n",
              "  return _uploadFilesContinue(outputId);\n",
              "}\n",
              "\n",
              "// This is roughly an async generator (not supported in the browser yet),\n",
              "// where there are multiple asynchronous steps and the Python side is going\n",
              "// to poll for completion of each step.\n",
              "// This uses a Promise to block the python side on completion of each step,\n",
              "// then passes the result of the previous step as the input to the next step.\n",
              "function _uploadFilesContinue(outputId) {\n",
              "  const outputElement = document.getElementById(outputId);\n",
              "  const steps = outputElement.steps;\n",
              "\n",
              "  const next = steps.next(outputElement.lastPromiseValue);\n",
              "  return Promise.resolve(next.value.promise).then((value) => {\n",
              "    // Cache the last promise value to make it available to the next\n",
              "    // step of the generator.\n",
              "    outputElement.lastPromiseValue = value;\n",
              "    return next.value.response;\n",
              "  });\n",
              "}\n",
              "\n",
              "/**\n",
              " * Generator function which is called between each async step of the upload\n",
              " * process.\n",
              " * @param {string} inputId Element ID of the input file picker element.\n",
              " * @param {string} outputId Element ID of the output display.\n",
              " * @return {!Iterable<!Object>} Iterable of next steps.\n",
              " */\n",
              "function* uploadFilesStep(inputId, outputId) {\n",
              "  const inputElement = document.getElementById(inputId);\n",
              "  inputElement.disabled = false;\n",
              "\n",
              "  const outputElement = document.getElementById(outputId);\n",
              "  outputElement.innerHTML = '';\n",
              "\n",
              "  const pickedPromise = new Promise((resolve) => {\n",
              "    inputElement.addEventListener('change', (e) => {\n",
              "      resolve(e.target.files);\n",
              "    });\n",
              "  });\n",
              "\n",
              "  const cancel = document.createElement('button');\n",
              "  inputElement.parentElement.appendChild(cancel);\n",
              "  cancel.textContent = 'Cancel upload';\n",
              "  const cancelPromise = new Promise((resolve) => {\n",
              "    cancel.onclick = () => {\n",
              "      resolve(null);\n",
              "    };\n",
              "  });\n",
              "\n",
              "  // Wait for the user to pick the files.\n",
              "  const files = yield {\n",
              "    promise: Promise.race([pickedPromise, cancelPromise]),\n",
              "    response: {\n",
              "      action: 'starting',\n",
              "    }\n",
              "  };\n",
              "\n",
              "  cancel.remove();\n",
              "\n",
              "  // Disable the input element since further picks are not allowed.\n",
              "  inputElement.disabled = true;\n",
              "\n",
              "  if (!files) {\n",
              "    return {\n",
              "      response: {\n",
              "        action: 'complete',\n",
              "      }\n",
              "    };\n",
              "  }\n",
              "\n",
              "  for (const file of files) {\n",
              "    const li = document.createElement('li');\n",
              "    li.append(span(file.name, {fontWeight: 'bold'}));\n",
              "    li.append(span(\n",
              "        `(${file.type || 'n/a'}) - ${file.size} bytes, ` +\n",
              "        `last modified: ${\n",
              "            file.lastModifiedDate ? file.lastModifiedDate.toLocaleDateString() :\n",
              "                                    'n/a'} - `));\n",
              "    const percent = span('0% done');\n",
              "    li.appendChild(percent);\n",
              "\n",
              "    outputElement.appendChild(li);\n",
              "\n",
              "    const fileDataPromise = new Promise((resolve) => {\n",
              "      const reader = new FileReader();\n",
              "      reader.onload = (e) => {\n",
              "        resolve(e.target.result);\n",
              "      };\n",
              "      reader.readAsArrayBuffer(file);\n",
              "    });\n",
              "    // Wait for the data to be ready.\n",
              "    let fileData = yield {\n",
              "      promise: fileDataPromise,\n",
              "      response: {\n",
              "        action: 'continue',\n",
              "      }\n",
              "    };\n",
              "\n",
              "    // Use a chunked sending to avoid message size limits. See b/62115660.\n",
              "    let position = 0;\n",
              "    do {\n",
              "      const length = Math.min(fileData.byteLength - position, MAX_PAYLOAD_SIZE);\n",
              "      const chunk = new Uint8Array(fileData, position, length);\n",
              "      position += length;\n",
              "\n",
              "      const base64 = btoa(String.fromCharCode.apply(null, chunk));\n",
              "      yield {\n",
              "        response: {\n",
              "          action: 'append',\n",
              "          file: file.name,\n",
              "          data: base64,\n",
              "        },\n",
              "      };\n",
              "\n",
              "      let percentDone = fileData.byteLength === 0 ?\n",
              "          100 :\n",
              "          Math.round((position / fileData.byteLength) * 100);\n",
              "      percent.textContent = `${percentDone}% done`;\n",
              "\n",
              "    } while (position < fileData.byteLength);\n",
              "  }\n",
              "\n",
              "  // All done.\n",
              "  yield {\n",
              "    response: {\n",
              "      action: 'complete',\n",
              "    }\n",
              "  };\n",
              "}\n",
              "\n",
              "scope.google = scope.google || {};\n",
              "scope.google.colab = scope.google.colab || {};\n",
              "scope.google.colab._files = {\n",
              "  _uploadFiles,\n",
              "  _uploadFilesContinue,\n",
              "};\n",
              "})(self);\n",
              "</script> "
            ]
          },
          "metadata": {}
        },
        {
          "output_type": "stream",
          "name": "stdout",
          "text": [
            "Saving employees.csv to employees.csv\n"
          ]
        }
      ],
      "source": [
        "# Upload the file to Colab\n",
        "import pandas as pd\n",
        "import io\n",
        "from google.colab import files\n",
        "\n",
        "uploaded = files.upload()"
      ]
    },
    {
      "cell_type": "code",
      "source": [
        "# 1. Read the csv file and provide summary of the DataFrame\n",
        "df = pd.read_csv(io.BytesIO(uploaded['employees.csv']))\n",
        "\n",
        "print(\"Summary of the DataFrame:\")\n",
        "print(\"First 5 rows:\")\n",
        "print(df.head())\n",
        "print(\"DataFrame Info:\")\n",
        "print(df.info())\n",
        "print(\"Descriptive Statistics:\")\n",
        "print(df.describe())"
      ],
      "metadata": {
        "colab": {
          "base_uri": "https://localhost:8080/"
        },
        "id": "vG6SvQlHGak2",
        "outputId": "89db8432-835a-4fb3-ee83-4878a1894b1b"
      },
      "execution_count": null,
      "outputs": [
        {
          "output_type": "stream",
          "name": "stdout",
          "text": [
            "Summary of the DataFrame:\n",
            "First 5 rows:\n",
            "  First Name  Gender Start Date Last Login Time    Salary  Bonus %  \\\n",
            "0    Douglas    Male   8/6/1993        12:42 PM   97308.0    6.945   \n",
            "1     Thomas    Male  3/31/1996         6:53 AM   61933.0    4.170   \n",
            "2      Maria  Female  4/23/1993        11:17 AM  130590.0   11.858   \n",
            "3      Jerry    Male   3/4/2005         1:00 PM  138705.0    9.340   \n",
            "4      Larry    Male  1/24/1998         4:47 PM  101004.0    1.389   \n",
            "\n",
            "  Senior Management             Team  \n",
            "0              True        Marketing  \n",
            "1              True              NaN  \n",
            "2             False          Finance  \n",
            "3              True          Finance  \n",
            "4              True  Client Services  \n",
            "DataFrame Info:\n",
            "<class 'pandas.core.frame.DataFrame'>\n",
            "RangeIndex: 1000 entries, 0 to 999\n",
            "Data columns (total 8 columns):\n",
            " #   Column             Non-Null Count  Dtype  \n",
            "---  ------             --------------  -----  \n",
            " 0   First Name         933 non-null    object \n",
            " 1   Gender             855 non-null    object \n",
            " 2   Start Date         1000 non-null   object \n",
            " 3   Last Login Time    1000 non-null   object \n",
            " 4   Salary             992 non-null    float64\n",
            " 5   Bonus %            993 non-null    float64\n",
            " 6   Senior Management  933 non-null    object \n",
            " 7   Team               957 non-null    object \n",
            "dtypes: float64(2), object(6)\n",
            "memory usage: 62.6+ KB\n",
            "None\n",
            "Descriptive Statistics:\n",
            "              Salary     Bonus %\n",
            "count     992.000000  993.000000\n",
            "mean    90679.598790   10.232966\n",
            "std     32980.862605    5.529108\n",
            "min     35013.000000    1.015000\n",
            "25%     62613.000000    5.435000\n",
            "50%     90398.500000    9.851000\n",
            "75%    118795.000000   14.842000\n",
            "max    149908.000000   19.944000\n"
          ]
        }
      ]
    },
    {
      "cell_type": "code",
      "source": [
        "# 2. Fill the missing values in 'Salary' and 'Bonus %' columns with median\n",
        "df['Salary'] = df['Salary'].fillna(df['Salary'].median())\n",
        "df['Bonus %'] = df['Bonus %'].fillna(df['Bonus %'].median())\n",
        "\n",
        "# Calculate averages (mean)\n",
        "avg_salary = df['Salary'].mean()\n",
        "avg_bonus = df['Bonus %'].mean()\n",
        "\n",
        "print(f\"Average Salary: ${avg_salary:.2f}\")\n",
        "print(f\"Average Bonus %: {avg_bonus:.2f}%\")"
      ],
      "metadata": {
        "colab": {
          "base_uri": "https://localhost:8080/"
        },
        "id": "oXoJzSJAHAc6",
        "outputId": "8c319c1b-f8a2-419e-e101-1ce315f5dccc"
      },
      "execution_count": null,
      "outputs": [
        {
          "output_type": "stream",
          "name": "stdout",
          "text": [
            "Average Salary: $90677.35\n",
            "Average Bonus %: 10.23%\n"
          ]
        }
      ]
    },
    {
      "cell_type": "code",
      "source": [
        "# 3. Filter the rows to only show employees with Salaries >100K.\n",
        "high_salary = df[df['Salary'] > 100000]\n",
        "print(\"Employees with Salaries > $100K:\")\n",
        "print(high_salary)"
      ],
      "metadata": {
        "colab": {
          "base_uri": "https://localhost:8080/"
        },
        "id": "R8UxsmZ1O7lZ",
        "outputId": "24f3eb4d-ff06-4f36-d700-17d2de53d4ad"
      },
      "execution_count": null,
      "outputs": [
        {
          "output_type": "stream",
          "name": "stdout",
          "text": [
            "Employees with Salaries > $100K:\n",
            "    First Name  Gender  Start Date Last Login Time    Salary  Bonus %  \\\n",
            "2        Maria  Female   4/23/1993        11:17 AM  130590.0   11.858   \n",
            "3        Jerry    Male    3/4/2005         1:00 PM  138705.0    9.340   \n",
            "4        Larry    Male   1/24/1998         4:47 PM  101004.0    1.389   \n",
            "5       Dennis    Male   4/18/1987         1:35 AM  115163.0   10.125   \n",
            "9      Frances  Female    8/8/2002         6:51 AM  139852.0    7.524   \n",
            "..         ...     ...         ...             ...       ...      ...   \n",
            "990      Robin  Female   7/24/1987         1:35 PM  100765.0   10.982   \n",
            "991       Rose  Female   8/25/2002         5:12 AM  134505.0   11.051   \n",
            "992    Anthony    Male  10/16/2011         8:35 AM  112769.0   11.625   \n",
            "995      Henry     NaN  11/23/2014         6:09 AM  132483.0   16.655   \n",
            "999     Albert    Male   5/15/2012         6:24 PM  129949.0   10.169   \n",
            "\n",
            "    Senior Management                  Team  \n",
            "2               False               Finance  \n",
            "3                True               Finance  \n",
            "4                True       Client Services  \n",
            "5               False                 Legal  \n",
            "9                True  Business Development  \n",
            "..                ...                   ...  \n",
            "990              True       Client Services  \n",
            "991              True             Marketing  \n",
            "992              True               Finance  \n",
            "995             False          Distribution  \n",
            "999              True                 Sales  \n",
            "\n",
            "[405 rows x 8 columns]\n"
          ]
        }
      ]
    },
    {
      "cell_type": "code",
      "source": [
        "# 4. Print the names of male and female employees with highest and lowest salaries.\n",
        "# For highest salary per gender:\n",
        "highest_salary = df.loc[df.groupby('Gender')['Salary'].idxmax()][['First Name','Gender','Salary']]\n",
        "print(\"Highest salary by Gender:\")\n",
        "print(highest_salary)\n",
        "# For lowest salary per gender:\n",
        "lowest_salary = df.loc[df.groupby('Gender')['Salary'].idxmin()][['First Name','Gender','Salary']]\n",
        "print(\"Lowest salary by Gender:\")\n",
        "print(lowest_salary)"
      ],
      "metadata": {
        "colab": {
          "base_uri": "https://localhost:8080/"
        },
        "id": "ViMBty4jPr9i",
        "outputId": "daddc88b-5ac8-459b-b1be-b092336a6b4c"
      },
      "execution_count": null,
      "outputs": [
        {
          "output_type": "stream",
          "name": "stdout",
          "text": [
            "Highest salary by Gender:\n",
            "    First Name  Gender    Salary\n",
            "644  Katherine  Female  149908.0\n",
            "981      James    Male  148985.0\n",
            "Lowest salary by Gender:\n",
            "    First Name  Gender   Salary\n",
            "650    Cynthia  Female  35381.0\n",
            "576    Michael    Male  35013.0\n"
          ]
        }
      ]
    },
    {
      "cell_type": "code",
      "source": [
        "# 5. For each Team, calculate the minimum and maximum salaries.\n",
        "team_salary = df.groupby('Team')['Salary'].agg(['min', 'max'])\n",
        "print(\"Minimum and Maximum Salaries by Team:\")\n",
        "print(team_salary)"
      ],
      "metadata": {
        "colab": {
          "base_uri": "https://localhost:8080/"
        },
        "id": "eG3FdeC5SkOL",
        "outputId": "fea48d03-7853-4a0c-b842-5ef873d2d2de"
      },
      "execution_count": null,
      "outputs": [
        {
          "output_type": "stream",
          "name": "stdout",
          "text": [
            "Minimum and Maximum Salaries by Team:\n",
            "                          min       max\n",
            "Team                                   \n",
            "Business Development  36844.0  147417.0\n",
            "Client Services       35095.0  147183.0\n",
            "Distribution          35575.0  149105.0\n",
            "Engineering           36946.0  147362.0\n",
            "Finance               35381.0  149908.0\n",
            "Human Resources       35203.0  149903.0\n",
            "Legal                 35061.0  148985.0\n",
            "Marketing             36643.0  149456.0\n",
            "Product               35013.0  149684.0\n",
            "Sales                 35802.0  149654.0\n"
          ]
        }
      ]
    },
    {
      "cell_type": "code",
      "source": [
        "# 6. Find the maximum and average salary of Male and Female as different groups.\n",
        "gender_salary = df.groupby('Gender')['Salary'].agg(['max', 'mean'])\n",
        "print(\"Maximum and Average Salary by Gender:\")\n",
        "print(gender_salary)"
      ],
      "metadata": {
        "colab": {
          "base_uri": "https://localhost:8080/"
        },
        "id": "FTRfey1cS7oB",
        "outputId": "c659d6c6-b595-4daf-e5bb-3275fbea6500"
      },
      "execution_count": null,
      "outputs": [
        {
          "output_type": "stream",
          "name": "stdout",
          "text": [
            "Maximum and Average Salary by Gender:\n",
            "             max          mean\n",
            "Gender                        \n",
            "Female  149908.0  90098.645012\n",
            "Male    148985.0  91110.544811\n"
          ]
        }
      ]
    },
    {
      "cell_type": "code",
      "source": [
        "# 7. For each combination of Team and Gender, calculate the mean salary.\n",
        "team_gender_mean_salary = df.groupby(['Team', 'Gender'])['Salary'].mean().reset_index()\n",
        "print(\"Mean Salary by Team and Gender:\")\n",
        "print(team_gender_mean_salary)"
      ],
      "metadata": {
        "colab": {
          "base_uri": "https://localhost:8080/"
        },
        "id": "2CtO8g7dULYE",
        "outputId": "4a428d3a-c402-4809-f1de-d8427ad5b60a"
      },
      "execution_count": null,
      "outputs": [
        {
          "output_type": "stream",
          "name": "stdout",
          "text": [
            "Mean Salary by Team and Gender:\n",
            "                    Team  Gender        Salary\n",
            "0   Business Development  Female  92669.060000\n",
            "1   Business Development    Male  89071.750000\n",
            "2        Client Services  Female  86430.083333\n",
            "3        Client Services    Male  93014.797619\n",
            "4           Distribution  Female  81328.162162\n",
            "5           Distribution    Male  93861.800000\n",
            "6            Engineering  Female  89861.715909\n",
            "7            Engineering    Male  98408.250000\n",
            "8                Finance  Female  92203.454545\n",
            "9                Finance    Male  94912.670732\n",
            "10       Human Resources  Female  94113.972973\n",
            "11       Human Resources    Male  91368.733333\n",
            "12                 Legal  Female  90790.382353\n",
            "13                 Legal    Male  84254.657143\n",
            "14             Marketing  Female  95881.412500\n",
            "15             Marketing    Male  86082.365854\n",
            "16               Product  Female  86182.644444\n",
            "17               Product    Male  88957.825000\n",
            "18                 Sales  Female  89814.564103\n",
            "19                 Sales    Male  93196.666667\n"
          ]
        }
      ]
    },
    {
      "cell_type": "code",
      "source": [
        "# 8. Find the total salary of each employee by considering both base salary and bonus and add it as an extra column “Total Salary” (bonus is calculated as Salary * (Bonus % / 100)).\n",
        "df['Total Salary'] = df['Salary'] + (df['Salary'] * df['Bonus %'] / 100)\n",
        "print(\"DataFrame with Total Salary column:\")\n",
        "print(df[['First Name', 'Salary', 'Bonus %', 'Total Salary']])"
      ],
      "metadata": {
        "colab": {
          "base_uri": "https://localhost:8080/"
        },
        "id": "tjllYiRMUnXz",
        "outputId": "cb423f50-17c1-49d9-d3c7-989159f98edf"
      },
      "execution_count": null,
      "outputs": [
        {
          "output_type": "stream",
          "name": "stdout",
          "text": [
            "DataFrame with Total Salary column:\n",
            "    First Name    Salary  Bonus %  Total Salary\n",
            "0      Douglas   97308.0    6.945  104066.04060\n",
            "1       Thomas   61933.0    4.170   64515.60610\n",
            "2        Maria  130590.0   11.858  146075.36220\n",
            "3        Jerry  138705.0    9.340  151660.04700\n",
            "4        Larry  101004.0    1.389  102406.94556\n",
            "..         ...       ...      ...           ...\n",
            "995      Henry  132483.0   16.655  154548.04365\n",
            "996    Phillip   42392.0   19.675   50732.62600\n",
            "997    Russell   96914.0    1.421   98291.14794\n",
            "998      Larry   60500.0   11.985   67750.92500\n",
            "999     Albert  129949.0   10.169  143163.51381\n",
            "\n",
            "[1000 rows x 4 columns]\n"
          ]
        }
      ]
    },
    {
      "cell_type": "code",
      "source": [
        "# 9. Find the employees who joined in the years between 2000-2010.\n",
        "df['Start Date'] = pd.to_datetime(df['Start Date'], errors='coerce')\n",
        "employees_2000_2010 = df[(df['Start Date'].dt.year >= 2000) & (df['Start Date'].dt.year <= 2010)]\n",
        "print(\"Employees who joined between 2000 and 2010:\")\n",
        "print(employees_2000_2010[['First Name', 'Start Date', 'Gender', 'Team']])"
      ],
      "metadata": {
        "colab": {
          "base_uri": "https://localhost:8080/"
        },
        "id": "RBr5d3M1VCj9",
        "outputId": "a5985a5a-56fc-46ab-de69-cdd521b86004"
      },
      "execution_count": null,
      "outputs": [
        {
          "output_type": "stream",
          "name": "stdout",
          "text": [
            "Employees who joined between 2000 and 2010:\n",
            "    First Name Start Date  Gender                  Team\n",
            "3        Jerry 2005-03-04    Male               Finance\n",
            "8       Angela 2005-11-22  Female           Engineering\n",
            "9      Frances 2002-08-08  Female  Business Development\n",
            "13        Gary 2008-01-27    Male                 Sales\n",
            "16      Jeremy 2010-09-21    Male       Human Resources\n",
            "..         ...        ...     ...                   ...\n",
            "969      Linda 2010-02-04  Female           Engineering\n",
            "971    Patrick 2002-12-30    Male  Business Development\n",
            "972     Victor 2006-07-28     NaN                 Sales\n",
            "988      Alice 2004-10-05  Female       Human Resources\n",
            "991       Rose 2002-08-25  Female             Marketing\n",
            "\n",
            "[327 rows x 4 columns]\n"
          ]
        }
      ]
    },
    {
      "cell_type": "code",
      "source": [
        "# 10. Use apply() to find the difference between Max and Min values for Salary and Bonus %.\n",
        "diff = df[['Salary', 'Bonus %']].apply(lambda x: x.max() - x.min())\n",
        "print(\"Difference between Max and Min values for Salary and Bonus %:\")\n",
        "print(diff)"
      ],
      "metadata": {
        "colab": {
          "base_uri": "https://localhost:8080/"
        },
        "id": "noSAkVjSVMoN",
        "outputId": "4225c6b8-3e10-492c-def0-1beb50037643"
      },
      "execution_count": null,
      "outputs": [
        {
          "output_type": "stream",
          "name": "stdout",
          "text": [
            "Difference between Max and Min values for Salary and Bonus %:\n",
            "Salary     114895.000\n",
            "Bonus %        18.929\n",
            "dtype: float64\n"
          ]
        }
      ]
    },
    {
      "cell_type": "markdown",
      "source": [
        "**Question 2**"
      ],
      "metadata": {
        "id": "PmzLCCs_WU7r"
      }
    },
    {
      "cell_type": "code",
      "source": [
        "# Upload the file to Colab\n",
        "import pandas as pd\n",
        "import io\n",
        "from google.colab import files\n",
        "\n",
        "uploaded = files.upload()"
      ],
      "metadata": {
        "id": "YqOrizIZWZxL",
        "colab": {
          "base_uri": "https://localhost:8080/",
          "height": 73
        },
        "outputId": "c28a1d56-39ff-40c6-a5d1-63f8f083d394"
      },
      "execution_count": null,
      "outputs": [
        {
          "output_type": "display_data",
          "data": {
            "text/plain": [
              "<IPython.core.display.HTML object>"
            ],
            "text/html": [
              "\n",
              "     <input type=\"file\" id=\"files-1df45b53-0cd4-4a0e-a025-5150be2bcee8\" name=\"files[]\" multiple disabled\n",
              "        style=\"border:none\" />\n",
              "     <output id=\"result-1df45b53-0cd4-4a0e-a025-5150be2bcee8\">\n",
              "      Upload widget is only available when the cell has been executed in the\n",
              "      current browser session. Please rerun this cell to enable.\n",
              "      </output>\n",
              "      <script>// Copyright 2017 Google LLC\n",
              "//\n",
              "// Licensed under the Apache License, Version 2.0 (the \"License\");\n",
              "// you may not use this file except in compliance with the License.\n",
              "// You may obtain a copy of the License at\n",
              "//\n",
              "//      http://www.apache.org/licenses/LICENSE-2.0\n",
              "//\n",
              "// Unless required by applicable law or agreed to in writing, software\n",
              "// distributed under the License is distributed on an \"AS IS\" BASIS,\n",
              "// WITHOUT WARRANTIES OR CONDITIONS OF ANY KIND, either express or implied.\n",
              "// See the License for the specific language governing permissions and\n",
              "// limitations under the License.\n",
              "\n",
              "/**\n",
              " * @fileoverview Helpers for google.colab Python module.\n",
              " */\n",
              "(function(scope) {\n",
              "function span(text, styleAttributes = {}) {\n",
              "  const element = document.createElement('span');\n",
              "  element.textContent = text;\n",
              "  for (const key of Object.keys(styleAttributes)) {\n",
              "    element.style[key] = styleAttributes[key];\n",
              "  }\n",
              "  return element;\n",
              "}\n",
              "\n",
              "// Max number of bytes which will be uploaded at a time.\n",
              "const MAX_PAYLOAD_SIZE = 100 * 1024;\n",
              "\n",
              "function _uploadFiles(inputId, outputId) {\n",
              "  const steps = uploadFilesStep(inputId, outputId);\n",
              "  const outputElement = document.getElementById(outputId);\n",
              "  // Cache steps on the outputElement to make it available for the next call\n",
              "  // to uploadFilesContinue from Python.\n",
              "  outputElement.steps = steps;\n",
              "\n",
              "  return _uploadFilesContinue(outputId);\n",
              "}\n",
              "\n",
              "// This is roughly an async generator (not supported in the browser yet),\n",
              "// where there are multiple asynchronous steps and the Python side is going\n",
              "// to poll for completion of each step.\n",
              "// This uses a Promise to block the python side on completion of each step,\n",
              "// then passes the result of the previous step as the input to the next step.\n",
              "function _uploadFilesContinue(outputId) {\n",
              "  const outputElement = document.getElementById(outputId);\n",
              "  const steps = outputElement.steps;\n",
              "\n",
              "  const next = steps.next(outputElement.lastPromiseValue);\n",
              "  return Promise.resolve(next.value.promise).then((value) => {\n",
              "    // Cache the last promise value to make it available to the next\n",
              "    // step of the generator.\n",
              "    outputElement.lastPromiseValue = value;\n",
              "    return next.value.response;\n",
              "  });\n",
              "}\n",
              "\n",
              "/**\n",
              " * Generator function which is called between each async step of the upload\n",
              " * process.\n",
              " * @param {string} inputId Element ID of the input file picker element.\n",
              " * @param {string} outputId Element ID of the output display.\n",
              " * @return {!Iterable<!Object>} Iterable of next steps.\n",
              " */\n",
              "function* uploadFilesStep(inputId, outputId) {\n",
              "  const inputElement = document.getElementById(inputId);\n",
              "  inputElement.disabled = false;\n",
              "\n",
              "  const outputElement = document.getElementById(outputId);\n",
              "  outputElement.innerHTML = '';\n",
              "\n",
              "  const pickedPromise = new Promise((resolve) => {\n",
              "    inputElement.addEventListener('change', (e) => {\n",
              "      resolve(e.target.files);\n",
              "    });\n",
              "  });\n",
              "\n",
              "  const cancel = document.createElement('button');\n",
              "  inputElement.parentElement.appendChild(cancel);\n",
              "  cancel.textContent = 'Cancel upload';\n",
              "  const cancelPromise = new Promise((resolve) => {\n",
              "    cancel.onclick = () => {\n",
              "      resolve(null);\n",
              "    };\n",
              "  });\n",
              "\n",
              "  // Wait for the user to pick the files.\n",
              "  const files = yield {\n",
              "    promise: Promise.race([pickedPromise, cancelPromise]),\n",
              "    response: {\n",
              "      action: 'starting',\n",
              "    }\n",
              "  };\n",
              "\n",
              "  cancel.remove();\n",
              "\n",
              "  // Disable the input element since further picks are not allowed.\n",
              "  inputElement.disabled = true;\n",
              "\n",
              "  if (!files) {\n",
              "    return {\n",
              "      response: {\n",
              "        action: 'complete',\n",
              "      }\n",
              "    };\n",
              "  }\n",
              "\n",
              "  for (const file of files) {\n",
              "    const li = document.createElement('li');\n",
              "    li.append(span(file.name, {fontWeight: 'bold'}));\n",
              "    li.append(span(\n",
              "        `(${file.type || 'n/a'}) - ${file.size} bytes, ` +\n",
              "        `last modified: ${\n",
              "            file.lastModifiedDate ? file.lastModifiedDate.toLocaleDateString() :\n",
              "                                    'n/a'} - `));\n",
              "    const percent = span('0% done');\n",
              "    li.appendChild(percent);\n",
              "\n",
              "    outputElement.appendChild(li);\n",
              "\n",
              "    const fileDataPromise = new Promise((resolve) => {\n",
              "      const reader = new FileReader();\n",
              "      reader.onload = (e) => {\n",
              "        resolve(e.target.result);\n",
              "      };\n",
              "      reader.readAsArrayBuffer(file);\n",
              "    });\n",
              "    // Wait for the data to be ready.\n",
              "    let fileData = yield {\n",
              "      promise: fileDataPromise,\n",
              "      response: {\n",
              "        action: 'continue',\n",
              "      }\n",
              "    };\n",
              "\n",
              "    // Use a chunked sending to avoid message size limits. See b/62115660.\n",
              "    let position = 0;\n",
              "    do {\n",
              "      const length = Math.min(fileData.byteLength - position, MAX_PAYLOAD_SIZE);\n",
              "      const chunk = new Uint8Array(fileData, position, length);\n",
              "      position += length;\n",
              "\n",
              "      const base64 = btoa(String.fromCharCode.apply(null, chunk));\n",
              "      yield {\n",
              "        response: {\n",
              "          action: 'append',\n",
              "          file: file.name,\n",
              "          data: base64,\n",
              "        },\n",
              "      };\n",
              "\n",
              "      let percentDone = fileData.byteLength === 0 ?\n",
              "          100 :\n",
              "          Math.round((position / fileData.byteLength) * 100);\n",
              "      percent.textContent = `${percentDone}% done`;\n",
              "\n",
              "    } while (position < fileData.byteLength);\n",
              "  }\n",
              "\n",
              "  // All done.\n",
              "  yield {\n",
              "    response: {\n",
              "      action: 'complete',\n",
              "    }\n",
              "  };\n",
              "}\n",
              "\n",
              "scope.google = scope.google || {};\n",
              "scope.google.colab = scope.google.colab || {};\n",
              "scope.google.colab._files = {\n",
              "  _uploadFiles,\n",
              "  _uploadFilesContinue,\n",
              "};\n",
              "})(self);\n",
              "</script> "
            ]
          },
          "metadata": {}
        },
        {
          "output_type": "stream",
          "name": "stdout",
          "text": [
            "Saving sales_product.csv to sales_product.csv\n"
          ]
        }
      ]
    },
    {
      "cell_type": "code",
      "source": [
        "# 1. Read the dataset in pandas Dataframe and show a few information about the dataset.\n",
        "import pandas as pd\n",
        "\n",
        "df = pd.read_csv('sales_product.csv')\n",
        "\n",
        "print(\"Dataset Information:\")\n",
        "print(df.info())\n",
        "print(df.head())"
      ],
      "metadata": {
        "colab": {
          "base_uri": "https://localhost:8080/"
        },
        "id": "Gvhq6YoAZm9B",
        "outputId": "24776abe-c148-40d3-f391-272bba783c00"
      },
      "execution_count": null,
      "outputs": [
        {
          "output_type": "stream",
          "name": "stdout",
          "text": [
            "Dataset Information:\n",
            "<class 'pandas.core.frame.DataFrame'>\n",
            "RangeIndex: 186850 entries, 0 to 186849\n",
            "Data columns (total 6 columns):\n",
            " #   Column            Non-Null Count   Dtype \n",
            "---  ------            --------------   ----- \n",
            " 0   Order ID          186305 non-null  object\n",
            " 1   Product           186305 non-null  object\n",
            " 2   Quantity Ordered  186305 non-null  object\n",
            " 3   Price Each        186305 non-null  object\n",
            " 4   Order Date        186305 non-null  object\n",
            " 5   Purchase Address  186305 non-null  object\n",
            "dtypes: object(6)\n",
            "memory usage: 8.6+ MB\n",
            "None\n",
            "  Order ID                     Product Quantity Ordered Price Each  \\\n",
            "0   176558        USB-C Charging Cable                2      11.95   \n",
            "1      NaN                         NaN              NaN        NaN   \n",
            "2   176559  Bose SoundSport Headphones                1      99.99   \n",
            "3   176560                Google Phone                1        600   \n",
            "4   176560            Wired Headphones                1      11.99   \n",
            "\n",
            "       Order Date                      Purchase Address  \n",
            "0  04/19/19 08:46          917 1st St, Dallas, TX 75001  \n",
            "1             NaN                                   NaN  \n",
            "2  04/07/19 22:30     682 Chestnut St, Boston, MA 02215  \n",
            "3  04/12/19 14:38  669 Spruce St, Los Angeles, CA 90001  \n",
            "4  04/12/19 14:38  669 Spruce St, Los Angeles, CA 90001  \n"
          ]
        }
      ]
    },
    {
      "cell_type": "code",
      "source": [
        "# 2. Find out all the rows with missing values and remove them from the dataset.\n",
        "empty_rows_before = df.isna().all(axis=1).sum()\n",
        "print(f\"Number of empty rows before removal: {empty_rows_before}\")\n",
        "df = df.dropna(how='all')\n",
        "empty_rows_after = df.isna().all(axis=1).sum()\n",
        "print(f\"Number of empty rows after removal: {empty_rows_after}\")\n",
        "partial_missing_before = df.isna().any(axis=1).sum()\n",
        "print(f\"Number of rows with partial missing values before removal: {partial_missing_before}\")\n",
        "df = df.dropna()\n",
        "partial_missing_after = df.isna().any(axis=1).sum()\n",
        "print(f\"Number of rows with partial missing values after removal: {partial_missing_after}\")"
      ],
      "metadata": {
        "colab": {
          "base_uri": "https://localhost:8080/"
        },
        "id": "7e10G7QibSfM",
        "outputId": "8aca97d2-9873-44e1-b2cf-b4a04625882c"
      },
      "execution_count": null,
      "outputs": [
        {
          "output_type": "stream",
          "name": "stdout",
          "text": [
            "Number of empty rows before removal: 545\n",
            "Number of empty rows after removal: 0\n",
            "Number of rows with partial missing values before removal: 0\n",
            "Number of rows with partial missing values after removal: 0\n"
          ]
        }
      ]
    },
    {
      "cell_type": "code",
      "source": [
        "# 3. Change the columns with appropriate data types.\n",
        "print(\"Original Data Types:\")\n",
        "print(df.dtypes)\n",
        "\n",
        "df['Quantity Ordered'] = pd.to_numeric(df['Quantity Ordered'], errors='coerce')\n",
        "df['Price Each'] = pd.to_numeric(df['Price Each'], errors='coerce')\n",
        "\n",
        "df = df.dropna(subset=['Quantity Ordered', 'Price Each'])\n",
        "\n",
        "df['Order Date'] = pd.to_datetime(df['Order Date'], format='%m/%d/%y %H:%M', errors='coerce')\n",
        "\n",
        "df = df.dropna(subset=['Order Date'])\n",
        "\n",
        "df['Quantity Ordered'] = df['Quantity Ordered'].astype(int)\n",
        "\n",
        "df['Price Each'] = df['Price Each'].astype(float)\n",
        "\n",
        "df['Order ID'] = df['Order ID'].astype(str)\n",
        "\n",
        "print(\"Updated Data Types:\")\n",
        "print(df.dtypes)"
      ],
      "metadata": {
        "colab": {
          "base_uri": "https://localhost:8080/"
        },
        "id": "IMbDdKBAewC5",
        "outputId": "fe7bb06e-27cb-4c15-edef-619592f2ffe4"
      },
      "execution_count": null,
      "outputs": [
        {
          "output_type": "stream",
          "name": "stdout",
          "text": [
            "Original Data Types:\n",
            "Order ID            object\n",
            "Product             object\n",
            "Quantity Ordered    object\n",
            "Price Each          object\n",
            "Order Date          object\n",
            "Purchase Address    object\n",
            "dtype: object\n",
            "Updated Data Types:\n",
            "Order ID                    object\n",
            "Product                     object\n",
            "Quantity Ordered             int64\n",
            "Price Each                 float64\n",
            "Order Date          datetime64[ns]\n",
            "Purchase Address            object\n",
            "dtype: object\n"
          ]
        }
      ]
    },
    {
      "cell_type": "code",
      "source": [
        "# 4. Create two new columns “Month” and “City” by parsing properly “Order Date” and “Purchase Address” columns.\n",
        "df['Month'] = df['Order Date'].dt.month\n",
        "df['City'] = df['Purchase Address'].str.split(',').str[1].str.strip()\n",
        "\n",
        "print(\"New Columns:\")\n",
        "print(df[['Order Date', 'Month', 'Purchase Address', 'City']].head())"
      ],
      "metadata": {
        "colab": {
          "base_uri": "https://localhost:8080/"
        },
        "id": "TwDWtzk-mvhH",
        "outputId": "7e36da4b-20b4-4e3c-86fd-51f520b6b0e8"
      },
      "execution_count": null,
      "outputs": [
        {
          "output_type": "stream",
          "name": "stdout",
          "text": [
            "New Columns:\n",
            "           Order Date  Month                      Purchase Address  \\\n",
            "0 2019-04-19 08:46:00      4          917 1st St, Dallas, TX 75001   \n",
            "2 2019-04-07 22:30:00      4     682 Chestnut St, Boston, MA 02215   \n",
            "3 2019-04-12 14:38:00      4  669 Spruce St, Los Angeles, CA 90001   \n",
            "4 2019-04-12 14:38:00      4  669 Spruce St, Los Angeles, CA 90001   \n",
            "5 2019-04-30 09:27:00      4     333 8th St, Los Angeles, CA 90001   \n",
            "\n",
            "          City  \n",
            "0       Dallas  \n",
            "2       Boston  \n",
            "3  Los Angeles  \n",
            "4  Los Angeles  \n",
            "5  Los Angeles  \n"
          ]
        }
      ]
    },
    {
      "cell_type": "code",
      "source": [
        "# 5. What was the best month for sales? How much was earned that month?\n",
        "df['Sales'] = df['Quantity Ordered'] * df['Price Each']\n",
        "\n",
        "monthly_sales = df.groupby('Month', as_index=False)['Sales'].sum()\n",
        "\n",
        "best_month = monthly_sales.loc[monthly_sales['Sales'].idxmax()]\n",
        "\n",
        "print(f\"Best Month: Month {int(best_month['Month'])} with ${best_month['Sales']:.2f} in sales.\")"
      ],
      "metadata": {
        "colab": {
          "base_uri": "https://localhost:8080/"
        },
        "id": "xMsXDbnknwJK",
        "outputId": "5fa13f3e-a16a-46b2-89cf-46466c7e514b"
      },
      "execution_count": null,
      "outputs": [
        {
          "output_type": "stream",
          "name": "stdout",
          "text": [
            "Best Month: Month 12 with $4613443.34 in sales.\n"
          ]
        }
      ]
    },
    {
      "cell_type": "code",
      "source": [
        "# 6. What city sold the most product?\n",
        "city_sales = df.groupby('City')['Quantity Ordered'].sum().reset_index()\n",
        "\n",
        "best_city = city_sales.loc[city_sales['Quantity Ordered'].idxmax()]\n",
        "\n",
        "print(f\"City with Most Sales: {best_city['City']} ({best_city['Quantity Ordered']:,} units sold).\")"
      ],
      "metadata": {
        "colab": {
          "base_uri": "https://localhost:8080/"
        },
        "id": "Xe7Y8x3Hn7Tw",
        "outputId": "8330ed0f-af8a-4765-95d2-db7a8b6a86d7"
      },
      "execution_count": null,
      "outputs": [
        {
          "output_type": "stream",
          "name": "stdout",
          "text": [
            "City with Most Sales: San Francisco (50,239 units sold).\n"
          ]
        }
      ]
    },
    {
      "cell_type": "code",
      "source": [
        "# 7. What product sold the most? Why do you think it sold the most?\n",
        "\n",
        "product_sales = df.groupby('Product')['Quantity Ordered'].sum().reset_index()\n",
        "\n",
        "best_product = product_sales.loc[product_sales['Quantity Ordered'].idxmax()]\n",
        "\n",
        "if 'Charging Cable' in best_product['Product']:\n",
        "    explanation = \"Likely because it's a low-cost, high-demand accessory for many devices, such as smartphones and laptops.\"\n",
        "elif 'Batteries' in best_product['Product']:\n",
        "    explanation = \"Likely because it's a widely used, necessary product that powers many devices.\"\n",
        "elif 'Headphones' in best_product['Product']:\n",
        "    explanation = \"Likely because it’s a popular product for consumers who enjoy music, gaming, or need them for work.\"\n",
        "else:\n",
        "    explanation = \"Likely because it’s a popular and essential product for consumers.\"\n",
        "\n",
        "print(f\"Best-Selling Product: {best_product['Product']} ({best_product['Quantity Ordered']:,} units sold).\")\n",
        "print(f\"Why?: {explanation}\")"
      ],
      "metadata": {
        "colab": {
          "base_uri": "https://localhost:8080/"
        },
        "id": "YJr_v2TLocb2",
        "outputId": "cd90797d-e23d-44fd-93dd-72c0196bc4e6"
      },
      "execution_count": null,
      "outputs": [
        {
          "output_type": "stream",
          "name": "stdout",
          "text": [
            "Best-Selling Product: AAA Batteries (4-pack) (31,017 units sold).\n",
            "Why?: Likely because it's a widely used, necessary product that powers many devices.\n"
          ]
        }
      ]
    },
    {
      "cell_type": "markdown",
      "source": [
        "**Question 3**"
      ],
      "metadata": {
        "id": "CLMO0kDDpMEE"
      }
    },
    {
      "cell_type": "code",
      "source": [
        "# Upload the file to Colab\n",
        "import pandas as pd\n",
        "import io\n",
        "from google.colab import files\n",
        "\n",
        "uploaded = files.upload()"
      ],
      "metadata": {
        "colab": {
          "base_uri": "https://localhost:8080/",
          "height": 73
        },
        "id": "Dkko4qFspNc1",
        "outputId": "2c77de39-9480-4034-c3f0-41d076ebaa7b"
      },
      "execution_count": 1,
      "outputs": [
        {
          "output_type": "display_data",
          "data": {
            "text/plain": [
              "<IPython.core.display.HTML object>"
            ],
            "text/html": [
              "\n",
              "     <input type=\"file\" id=\"files-21539129-5496-4399-9def-f2a576466e27\" name=\"files[]\" multiple disabled\n",
              "        style=\"border:none\" />\n",
              "     <output id=\"result-21539129-5496-4399-9def-f2a576466e27\">\n",
              "      Upload widget is only available when the cell has been executed in the\n",
              "      current browser session. Please rerun this cell to enable.\n",
              "      </output>\n",
              "      <script>// Copyright 2017 Google LLC\n",
              "//\n",
              "// Licensed under the Apache License, Version 2.0 (the \"License\");\n",
              "// you may not use this file except in compliance with the License.\n",
              "// You may obtain a copy of the License at\n",
              "//\n",
              "//      http://www.apache.org/licenses/LICENSE-2.0\n",
              "//\n",
              "// Unless required by applicable law or agreed to in writing, software\n",
              "// distributed under the License is distributed on an \"AS IS\" BASIS,\n",
              "// WITHOUT WARRANTIES OR CONDITIONS OF ANY KIND, either express or implied.\n",
              "// See the License for the specific language governing permissions and\n",
              "// limitations under the License.\n",
              "\n",
              "/**\n",
              " * @fileoverview Helpers for google.colab Python module.\n",
              " */\n",
              "(function(scope) {\n",
              "function span(text, styleAttributes = {}) {\n",
              "  const element = document.createElement('span');\n",
              "  element.textContent = text;\n",
              "  for (const key of Object.keys(styleAttributes)) {\n",
              "    element.style[key] = styleAttributes[key];\n",
              "  }\n",
              "  return element;\n",
              "}\n",
              "\n",
              "// Max number of bytes which will be uploaded at a time.\n",
              "const MAX_PAYLOAD_SIZE = 100 * 1024;\n",
              "\n",
              "function _uploadFiles(inputId, outputId) {\n",
              "  const steps = uploadFilesStep(inputId, outputId);\n",
              "  const outputElement = document.getElementById(outputId);\n",
              "  // Cache steps on the outputElement to make it available for the next call\n",
              "  // to uploadFilesContinue from Python.\n",
              "  outputElement.steps = steps;\n",
              "\n",
              "  return _uploadFilesContinue(outputId);\n",
              "}\n",
              "\n",
              "// This is roughly an async generator (not supported in the browser yet),\n",
              "// where there are multiple asynchronous steps and the Python side is going\n",
              "// to poll for completion of each step.\n",
              "// This uses a Promise to block the python side on completion of each step,\n",
              "// then passes the result of the previous step as the input to the next step.\n",
              "function _uploadFilesContinue(outputId) {\n",
              "  const outputElement = document.getElementById(outputId);\n",
              "  const steps = outputElement.steps;\n",
              "\n",
              "  const next = steps.next(outputElement.lastPromiseValue);\n",
              "  return Promise.resolve(next.value.promise).then((value) => {\n",
              "    // Cache the last promise value to make it available to the next\n",
              "    // step of the generator.\n",
              "    outputElement.lastPromiseValue = value;\n",
              "    return next.value.response;\n",
              "  });\n",
              "}\n",
              "\n",
              "/**\n",
              " * Generator function which is called between each async step of the upload\n",
              " * process.\n",
              " * @param {string} inputId Element ID of the input file picker element.\n",
              " * @param {string} outputId Element ID of the output display.\n",
              " * @return {!Iterable<!Object>} Iterable of next steps.\n",
              " */\n",
              "function* uploadFilesStep(inputId, outputId) {\n",
              "  const inputElement = document.getElementById(inputId);\n",
              "  inputElement.disabled = false;\n",
              "\n",
              "  const outputElement = document.getElementById(outputId);\n",
              "  outputElement.innerHTML = '';\n",
              "\n",
              "  const pickedPromise = new Promise((resolve) => {\n",
              "    inputElement.addEventListener('change', (e) => {\n",
              "      resolve(e.target.files);\n",
              "    });\n",
              "  });\n",
              "\n",
              "  const cancel = document.createElement('button');\n",
              "  inputElement.parentElement.appendChild(cancel);\n",
              "  cancel.textContent = 'Cancel upload';\n",
              "  const cancelPromise = new Promise((resolve) => {\n",
              "    cancel.onclick = () => {\n",
              "      resolve(null);\n",
              "    };\n",
              "  });\n",
              "\n",
              "  // Wait for the user to pick the files.\n",
              "  const files = yield {\n",
              "    promise: Promise.race([pickedPromise, cancelPromise]),\n",
              "    response: {\n",
              "      action: 'starting',\n",
              "    }\n",
              "  };\n",
              "\n",
              "  cancel.remove();\n",
              "\n",
              "  // Disable the input element since further picks are not allowed.\n",
              "  inputElement.disabled = true;\n",
              "\n",
              "  if (!files) {\n",
              "    return {\n",
              "      response: {\n",
              "        action: 'complete',\n",
              "      }\n",
              "    };\n",
              "  }\n",
              "\n",
              "  for (const file of files) {\n",
              "    const li = document.createElement('li');\n",
              "    li.append(span(file.name, {fontWeight: 'bold'}));\n",
              "    li.append(span(\n",
              "        `(${file.type || 'n/a'}) - ${file.size} bytes, ` +\n",
              "        `last modified: ${\n",
              "            file.lastModifiedDate ? file.lastModifiedDate.toLocaleDateString() :\n",
              "                                    'n/a'} - `));\n",
              "    const percent = span('0% done');\n",
              "    li.appendChild(percent);\n",
              "\n",
              "    outputElement.appendChild(li);\n",
              "\n",
              "    const fileDataPromise = new Promise((resolve) => {\n",
              "      const reader = new FileReader();\n",
              "      reader.onload = (e) => {\n",
              "        resolve(e.target.result);\n",
              "      };\n",
              "      reader.readAsArrayBuffer(file);\n",
              "    });\n",
              "    // Wait for the data to be ready.\n",
              "    let fileData = yield {\n",
              "      promise: fileDataPromise,\n",
              "      response: {\n",
              "        action: 'continue',\n",
              "      }\n",
              "    };\n",
              "\n",
              "    // Use a chunked sending to avoid message size limits. See b/62115660.\n",
              "    let position = 0;\n",
              "    do {\n",
              "      const length = Math.min(fileData.byteLength - position, MAX_PAYLOAD_SIZE);\n",
              "      const chunk = new Uint8Array(fileData, position, length);\n",
              "      position += length;\n",
              "\n",
              "      const base64 = btoa(String.fromCharCode.apply(null, chunk));\n",
              "      yield {\n",
              "        response: {\n",
              "          action: 'append',\n",
              "          file: file.name,\n",
              "          data: base64,\n",
              "        },\n",
              "      };\n",
              "\n",
              "      let percentDone = fileData.byteLength === 0 ?\n",
              "          100 :\n",
              "          Math.round((position / fileData.byteLength) * 100);\n",
              "      percent.textContent = `${percentDone}% done`;\n",
              "\n",
              "    } while (position < fileData.byteLength);\n",
              "  }\n",
              "\n",
              "  // All done.\n",
              "  yield {\n",
              "    response: {\n",
              "      action: 'complete',\n",
              "    }\n",
              "  };\n",
              "}\n",
              "\n",
              "scope.google = scope.google || {};\n",
              "scope.google.colab = scope.google.colab || {};\n",
              "scope.google.colab._files = {\n",
              "  _uploadFiles,\n",
              "  _uploadFilesContinue,\n",
              "};\n",
              "})(self);\n",
              "</script> "
            ]
          },
          "metadata": {}
        },
        {
          "output_type": "stream",
          "name": "stdout",
          "text": [
            "Saving googleplaystore.csv to googleplaystore.csv\n"
          ]
        }
      ]
    },
    {
      "cell_type": "code",
      "source": [
        "# 1. Read the dataset and show the size (e.g., of rows and columns), data type of each column and how many columns contain missing (nan) values?\n",
        "import pandas as pd\n",
        "\n",
        "df = pd.read_csv('googleplaystore.csv')\n",
        "\n",
        "\n",
        "print(\"Size of the dataset (rows, columns):\", df.shape)\n",
        "\n",
        "\n",
        "print(\"Data types of each column:\")\n",
        "print(df.dtypes)\n",
        "\n",
        "\n",
        "print(\"Missing Values in Each Column:\")\n",
        "print(df.isna().sum())\n",
        "\n",
        "\n",
        "cols_with_missing = df.columns[df.isna().any()].tolist()\n",
        "print(\"Number of Columns with Missing Values:\", len(cols_with_missing))\n",
        "\n",
        "\n",
        "print(\"Columns with Missing Values:\", cols_with_missing)"
      ],
      "metadata": {
        "colab": {
          "base_uri": "https://localhost:8080/"
        },
        "id": "q0WyAmFdprDW",
        "outputId": "78241ea5-ed10-4366-c97e-df89cecea3f0"
      },
      "execution_count": 3,
      "outputs": [
        {
          "output_type": "stream",
          "name": "stdout",
          "text": [
            "Size of the dataset (rows, columns): (10841, 13)\n",
            "Data types of each column:\n",
            "App                object\n",
            "Category           object\n",
            "Rating            float64\n",
            "Reviews            object\n",
            "Size               object\n",
            "Installs           object\n",
            "Type               object\n",
            "Price              object\n",
            "Content Rating     object\n",
            "Genres             object\n",
            "Last Updated       object\n",
            "Current Ver        object\n",
            "Android Ver        object\n",
            "dtype: object\n",
            "Missing Values in Each Column:\n",
            "App                  0\n",
            "Category             0\n",
            "Rating            1474\n",
            "Reviews              0\n",
            "Size                 0\n",
            "Installs             0\n",
            "Type                 1\n",
            "Price                0\n",
            "Content Rating       1\n",
            "Genres               0\n",
            "Last Updated         0\n",
            "Current Ver          8\n",
            "Android Ver          3\n",
            "dtype: int64\n",
            "Number of Columns with Missing Values: 5\n",
            "Columns with Missing Values: ['Rating', 'Type', 'Content Rating', 'Current Ver', 'Android Ver']\n"
          ]
        }
      ]
    },
    {
      "cell_type": "code",
      "source": [
        "# 2. Convert the “Reviews” column as int,  “Size” column as float, “Installs” as int and “Price” as float by  considering the appropriate cleaning measures.\n",
        "import pandas as pd\n",
        "import numpy as np\n",
        "\n",
        "df['Reviews'] = pd.to_numeric(df['Reviews'], errors='coerce').fillna(0).astype(int)\n",
        "\n",
        "\n",
        "def clean_size(size):\n",
        "    if isinstance(size, str):\n",
        "        size = size.strip()\n",
        "        if 'M' in size:\n",
        "            return float(size.replace('M', ''))\n",
        "        elif 'k' in size:\n",
        "            return float(size.replace('k', '')) / 1024  # Convert KB to MB\n",
        "        elif size == 'Varies with device':\n",
        "            return np.nan\n",
        "    return np.nan  # Handle non-string or invalid values\n",
        "\n",
        "df['Size'] = df['Size'].apply(clean_size).astype(float)\n",
        "\n",
        "def clean_installs(installs):\n",
        "    if isinstance(installs, str):\n",
        "        installs = installs.replace('+', '').replace(',', '')\n",
        "        if installs.isdigit():\n",
        "            return int(installs)\n",
        "    return np.nan  # Invalid values like \"Free\"\n",
        "\n",
        "df['Installs'] = df['Installs'].apply(clean_installs)\n",
        "df = df.dropna(subset=['Installs'])  # Remove rows with invalid installs\n",
        "df['Installs'] = df['Installs'].astype(int)\n",
        "\n",
        "\n",
        "def clean_price(price):\n",
        "    if isinstance(price, str):\n",
        "        price = price.strip()\n",
        "        if price.startswith('$'):\n",
        "            return float(price.replace('$', ''))\n",
        "        elif price == '0':\n",
        "            return 0.0\n",
        "    return np.nan\n",
        "\n",
        "df['Price'] = df['Price'].apply(clean_price).astype(float)\n",
        "\n",
        "print(\"Data Types After Conversion:\")\n",
        "print(df[['Reviews', 'Size', 'Installs', 'Price']].dtypes)"
      ],
      "metadata": {
        "colab": {
          "base_uri": "https://localhost:8080/"
        },
        "id": "VOaFWShg7Zr8",
        "outputId": "62216f51-d3a1-4c85-c648-4ab5d0e4591d"
      },
      "execution_count": 4,
      "outputs": [
        {
          "output_type": "stream",
          "name": "stdout",
          "text": [
            "Data Types After Conversion:\n",
            "Reviews       int64\n",
            "Size        float64\n",
            "Installs      int64\n",
            "Price       float64\n",
            "dtype: object\n"
          ]
        },
        {
          "output_type": "stream",
          "name": "stderr",
          "text": [
            "<ipython-input-4-ea4dbd670eb9>:30: SettingWithCopyWarning: \n",
            "A value is trying to be set on a copy of a slice from a DataFrame.\n",
            "Try using .loc[row_indexer,col_indexer] = value instead\n",
            "\n",
            "See the caveats in the documentation: https://pandas.pydata.org/pandas-docs/stable/user_guide/indexing.html#returning-a-view-versus-a-copy\n",
            "  df['Installs'] = df['Installs'].astype(int)\n",
            "<ipython-input-4-ea4dbd670eb9>:42: SettingWithCopyWarning: \n",
            "A value is trying to be set on a copy of a slice from a DataFrame.\n",
            "Try using .loc[row_indexer,col_indexer] = value instead\n",
            "\n",
            "See the caveats in the documentation: https://pandas.pydata.org/pandas-docs/stable/user_guide/indexing.html#returning-a-view-versus-a-copy\n",
            "  df['Price'] = df['Price'].apply(clean_price).astype(float)\n"
          ]
        }
      ]
    },
    {
      "cell_type": "code",
      "source": [
        "# 3. Convert the “Last  Updated” column to pandas datetime object and create 3 new columns,  “Day”, “Month” and “Year” and add those to the existing dataframe.\n",
        "df['Last Updated'] = pd.to_datetime(df['Last Updated'], errors='coerce')\n",
        "\n",
        "# New Columns (Day, Month, Year)\n",
        "df['Day'] = df['Last Updated'].dt.day.astype('Int64')\n",
        "df['Month'] = df['Last Updated'].dt.month.astype('Int64')\n",
        "df['Year'] = df['Last Updated'].dt.year.astype('Int64')\n",
        "\n",
        "\n",
        "print(\"Data Types After Conversion and Adding New Columns:\")\n",
        "print(df[['Last Updated', 'Day', 'Month', 'Year']].dtypes)\n",
        "\n",
        "print(\"First Few Rows After Conversion and Adding New Columns:\")\n",
        "print(df[['Last Updated', 'Day', 'Month', 'Year']].head())\n"
      ],
      "metadata": {
        "colab": {
          "base_uri": "https://localhost:8080/"
        },
        "id": "pmyMtmiC7zo9",
        "outputId": "703e4fb3-ded4-4f99-e47f-6ec896090c3d"
      },
      "execution_count": 5,
      "outputs": [
        {
          "output_type": "stream",
          "name": "stdout",
          "text": [
            "Data Types After Conversion and Adding New Columns:\n",
            "Last Updated    datetime64[ns]\n",
            "Day                      Int64\n",
            "Month                    Int64\n",
            "Year                     Int64\n",
            "dtype: object\n",
            "First Few Rows After Conversion and Adding New Columns:\n",
            "  Last Updated  Day  Month  Year\n",
            "0   2018-01-07    7      1  2018\n",
            "1   2018-01-15   15      1  2018\n",
            "2   2018-08-01    1      8  2018\n",
            "3   2018-06-08    8      6  2018\n",
            "4   2018-06-20   20      6  2018\n"
          ]
        }
      ]
    },
    {
      "cell_type": "code",
      "source": [
        "# 4. Take the appropriate measure to replace and/or drop the rows with missing values.\n",
        "\n",
        "# Fill categorical columns with mode\n",
        "def fill_with_mode(column):\n",
        "    mode_value = column.mode()[0] if not column.mode().empty else \"Unknown\"\n",
        "    return column.fillna(mode_value)\n",
        "\n",
        "df['Category'] = fill_with_mode(df['Category'])\n",
        "df['Genres'] = fill_with_mode(df['Genres'])\n",
        "df['Content Rating'] = fill_with_mode(df['Content Rating'])\n",
        "df['Type'] = fill_with_mode(df['Type'])\n",
        "\n",
        "# Fill 'Rating' with median of its category (handle empty groups)\n",
        "def fill_rating(group):\n",
        "    if group.isnull().all():\n",
        "        return group.fillna(df['Rating'].median())\n",
        "    else:\n",
        "        return group.fillna(group.median())\n",
        "\n",
        "df['Rating'] = df.groupby('Category')['Rating'].transform(fill_rating)\n",
        "\n",
        "# Drop rows with missing critical columns\n",
        "critical_columns = ['App', 'Category', 'Current Ver', 'Android Ver']\n",
        "df.dropna(subset=critical_columns, how='any', inplace=True)\n",
        "\n",
        "df.reset_index(drop=True, inplace=True)\n",
        "\n",
        "pd.set_option('future.no_silent_downcasting', True)\n",
        "df['Size'] = df['Size'].fillna(df['Size'].median())\n",
        "\n",
        "print(\"Missing Values After Handling:\")\n",
        "print(df.isnull().sum())"
      ],
      "metadata": {
        "colab": {
          "base_uri": "https://localhost:8080/"
        },
        "id": "6GYL4lH_8j1V",
        "outputId": "12c73c12-fa4c-4c85-c24c-7e646d326c2f"
      },
      "execution_count": 6,
      "outputs": [
        {
          "output_type": "stream",
          "name": "stdout",
          "text": [
            "Missing Values After Handling:\n",
            "App               0\n",
            "Category          0\n",
            "Rating            0\n",
            "Reviews           0\n",
            "Size              0\n",
            "Installs          0\n",
            "Type              0\n",
            "Price             0\n",
            "Content Rating    0\n",
            "Genres            0\n",
            "Last Updated      0\n",
            "Current Ver       0\n",
            "Android Ver       0\n",
            "Day               0\n",
            "Month             0\n",
            "Year              0\n",
            "dtype: int64\n"
          ]
        }
      ]
    },
    {
      "cell_type": "code",
      "source": [
        "# 5. Show the data types of each column again and save the dataframe to a new csv file.\n",
        "print(\"Data Types After Cleaning:\")\n",
        "print(df.dtypes)\n",
        "df.to_csv('googleplaystore_cleaned.csv', index=False)\n",
        "\n",
        "print(\"Cleaned dataframe has been saved to 'googleplaystore_cleaned.csv'.\")\n"
      ],
      "metadata": {
        "colab": {
          "base_uri": "https://localhost:8080/"
        },
        "id": "RpTAtu_yPbns",
        "outputId": "e5fc5b29-c1f5-4bfe-a4cb-3e37a25b14ae"
      },
      "execution_count": 7,
      "outputs": [
        {
          "output_type": "stream",
          "name": "stdout",
          "text": [
            "Data Types After Cleaning:\n",
            "App                       object\n",
            "Category                  object\n",
            "Rating                   float64\n",
            "Reviews                    int64\n",
            "Size                     float64\n",
            "Installs                   int64\n",
            "Type                      object\n",
            "Price                    float64\n",
            "Content Rating            object\n",
            "Genres                    object\n",
            "Last Updated      datetime64[ns]\n",
            "Current Ver               object\n",
            "Android Ver               object\n",
            "Day                        Int64\n",
            "Month                      Int64\n",
            "Year                       Int64\n",
            "dtype: object\n",
            "Cleaned dataframe has been saved to 'googleplaystore_cleaned.csv'.\n"
          ]
        }
      ]
    },
    {
      "cell_type": "code",
      "source": [
        "# 6. Find the average rating and average price for each Category.\n",
        "\n",
        "average_ratings_prices = df.groupby('Category')[['Rating', 'Price']].mean().reset_index()\n",
        "\n",
        "average_ratings_prices = average_ratings_prices.rename(columns={\n",
        "    'Rating': 'Average Rating',\n",
        "    'Price': 'Average Price'\n",
        "})\n",
        "\n",
        "# Round the averages to 2 decimal places\n",
        "average_ratings_prices['Average Rating'] = average_ratings_prices['Average Rating'].round(2)\n",
        "average_ratings_prices['Average Price'] = average_ratings_prices['Average Price'].round(2)\n",
        "\n",
        "print(\"Average Rating and Average Price for Each Category:\")\n",
        "print(average_ratings_prices)"
      ],
      "metadata": {
        "colab": {
          "base_uri": "https://localhost:8080/"
        },
        "id": "5SN-PfsfUCWy",
        "outputId": "4f03f38e-698d-469e-9dd1-934113e047e5"
      },
      "execution_count": 8,
      "outputs": [
        {
          "output_type": "stream",
          "name": "stdout",
          "text": [
            "Average Rating and Average Price for Each Category:\n",
            "               Category  Average Rating  Average Price\n",
            "0        ART_AND_DESIGN            4.38           0.09\n",
            "1     AUTO_AND_VEHICLES            4.21           0.16\n",
            "2                BEAUTY            4.28           0.00\n",
            "3   BOOKS_AND_REFERENCE            4.38           0.52\n",
            "4              BUSINESS            4.18           0.40\n",
            "5                COMICS            4.16           0.00\n",
            "6         COMMUNICATION            4.18           0.21\n",
            "7                DATING            3.99           0.13\n",
            "8             EDUCATION            4.39           0.12\n",
            "9         ENTERTAINMENT            4.13           0.05\n",
            "10               EVENTS            4.45           1.72\n",
            "11               FAMILY            4.20           1.24\n",
            "12              FINANCE            4.15           7.93\n",
            "13       FOOD_AND_DRINK            4.19           0.07\n",
            "14                 GAME            4.29           0.25\n",
            "15   HEALTH_AND_FITNESS            4.31           0.20\n",
            "16       HOUSE_AND_HOME            4.21           0.00\n",
            "17   LIBRARIES_AND_DEMO            4.18           0.01\n",
            "18            LIFESTYLE            4.11           6.18\n",
            "19  MAPS_AND_NAVIGATION            4.07           0.20\n",
            "20              MEDICAL            4.22           3.11\n",
            "21   NEWS_AND_MAGAZINES            4.14           0.01\n",
            "22            PARENTING            4.32           0.16\n",
            "23      PERSONALIZATION            4.35           0.39\n",
            "24          PHOTOGRAPHY            4.20           0.40\n",
            "25         PRODUCTIVITY            4.23           0.59\n",
            "26             SHOPPING            4.26           0.02\n",
            "27               SOCIAL            4.26           0.05\n",
            "28               SPORTS            4.24           0.26\n",
            "29                TOOLS            4.07           0.32\n",
            "30     TRAVEL_AND_LOCAL            4.13           0.19\n",
            "31        VIDEO_PLAYERS            4.08           0.06\n",
            "32              WEATHER            4.25           0.40\n"
          ]
        }
      ]
    },
    {
      "cell_type": "code",
      "source": [
        "# 7. Find the total installations for each month.\n",
        "\n",
        "df['Installs'] = pd.to_numeric(df['Installs'], errors='coerce')\n",
        "\n",
        "total_installations_by_month = df.groupby(['Month'])['Installs'].sum()\n",
        "\n",
        "\n",
        "total_installations_by_month = total_installations_by_month.reset_index()\n",
        "\n",
        "print(\"Total Installations for Each Month:\")\n",
        "print(total_installations_by_month)"
      ],
      "metadata": {
        "colab": {
          "base_uri": "https://localhost:8080/"
        },
        "id": "P1MP2bbwUvlD",
        "outputId": "ab82c900-62f1-49bc-cbae-883a6f65d086"
      },
      "execution_count": 9,
      "outputs": [
        {
          "output_type": "stream",
          "name": "stdout",
          "text": [
            "Total Installations for Each Month:\n",
            "    Month     Installs\n",
            "0       1   1186498286\n",
            "1       2   1016961455\n",
            "2       3   1186018825\n",
            "3       4   2893804919\n",
            "4       5   6231815327\n",
            "5       6   8186202674\n",
            "6       7  74442910569\n",
            "7       8  68668379529\n",
            "8       9    460172325\n",
            "9      10    590374124\n",
            "10     11   1618368197\n",
            "11     12   1150350147\n"
          ]
        }
      ]
    },
    {
      "cell_type": "code",
      "source": [
        "# 8. Which is the most popular app category?\n",
        "category_counts = df['Category'].value_counts().reset_index()\n",
        "category_counts.columns = ['Category', 'Number of Apps']\n",
        "\n",
        "most_popular_category = category_counts.iloc[0]\n",
        "\n",
        "print(\"Most Popular App Category (by Number of Apps):\")\n",
        "print(most_popular_category)"
      ],
      "metadata": {
        "colab": {
          "base_uri": "https://localhost:8080/"
        },
        "id": "PYs6F9-FIHBS",
        "outputId": "1c9798b1-7864-4ea6-de29-6bb62734cad9"
      },
      "execution_count": 10,
      "outputs": [
        {
          "output_type": "stream",
          "name": "stdout",
          "text": [
            "Most Popular App Category (by Number of Apps):\n",
            "Category          FAMILY\n",
            "Number of Apps      1969\n",
            "Name: 0, dtype: object\n"
          ]
        }
      ]
    },
    {
      "cell_type": "code",
      "source": [
        "# 9. Which Category has the largest number of installations?\n",
        "category_installs = df.groupby('Category')['Installs'].sum().reset_index()\n",
        "\n",
        "largest_install_category = category_installs.loc[category_installs['Installs'].idxmax()]\n",
        "\n",
        "print(\"Category with the Largest Number of Installations:\")\n",
        "print(largest_install_category)"
      ],
      "metadata": {
        "colab": {
          "base_uri": "https://localhost:8080/"
        },
        "id": "ILJ2UGRgIlsp",
        "outputId": "417ca2c4-2a47-4b73-cef9-bdac3c200800"
      },
      "execution_count": 11,
      "outputs": [
        {
          "output_type": "stream",
          "name": "stdout",
          "text": [
            "Category with the Largest Number of Installations:\n",
            "Category           GAME\n",
            "Installs    35086024415\n",
            "Name: 14, dtype: object\n"
          ]
        }
      ]
    },
    {
      "cell_type": "code",
      "source": [
        "# 10. What are the Top 5 most installed Apps in Each popular Categories?\n",
        "# Deduplicate apps per category (keep highest installs)\n",
        "df_deduplicated = df.sort_values('Installs', ascending=False).drop_duplicates(['App', 'Category'])\n",
        "\n",
        "# Top 5 categories by total installs after deduplication\n",
        "top_categories = (\n",
        "    df_deduplicated.groupby('Category')['Installs']\n",
        "    .sum()\n",
        "    .nlargest(5)\n",
        "    .index.tolist()\n",
        ")\n",
        "\n",
        "top_apps_by_category = {}\n",
        "\n",
        "for category in top_categories:\n",
        "    category_df = df_deduplicated[df_deduplicated['Category'] == category]\n",
        "    top_5_apps = category_df.nlargest(5, 'Installs')[['App', 'Installs']]\n",
        "    top_apps_by_category[category] = top_5_apps\n",
        "\n",
        "for category, apps in top_apps_by_category.items():\n",
        "    print(f\"Top 5 Apps in '{category}':\")\n",
        "    print(apps.to_string(index=False))\n",
        "    print(\"─\" * 50)"
      ],
      "metadata": {
        "colab": {
          "base_uri": "https://localhost:8080/"
        },
        "id": "qBQ_U8fbaXvg",
        "outputId": "d8e293ae-811e-497e-f7f2-217705cb9592"
      },
      "execution_count": 15,
      "outputs": [
        {
          "output_type": "stream",
          "name": "stdout",
          "text": [
            "Top 5 Apps in 'GAME':\n",
            "             App   Installs\n",
            "  Subway Surfers 1000000000\n",
            "Candy Crush Saga  500000000\n",
            "    Temple Run 2  500000000\n",
            "             Pou  500000000\n",
            "  My Talking Tom  500000000\n",
            "──────────────────────────────────────────────────\n",
            "Top 5 Apps in 'COMMUNICATION':\n",
            "                                     App   Installs\n",
            "           Skype - free IM & video calls 1000000000\n",
            "Messenger – Text and Video Chat for Free 1000000000\n",
            "                      WhatsApp Messenger 1000000000\n",
            "            Google Chrome: Fast & Secure 1000000000\n",
            "                                   Gmail 1000000000\n",
            "──────────────────────────────────────────────────\n",
            "Top 5 Apps in 'FAMILY':\n",
            "              App   Installs\n",
            "Google Play Games 1000000000\n",
            "              Pou  500000000\n",
            " Candy Crush Saga  500000000\n",
            "   My Talking Tom  500000000\n",
            " Tom Loves Angela  100000000\n",
            "──────────────────────────────────────────────────\n",
            "Top 5 Apps in 'TOOLS':\n",
            "                                               App   Installs\n",
            "                                            Google 1000000000\n",
            "                        SHAREit - Transfer & Share  500000000\n",
            "Security Master - Antivirus, VPN, AppLock, Booster  500000000\n",
            "                      Gboard - the Google Keyboard  500000000\n",
            "           Clean Master- Space Cleaner & Antivirus  500000000\n",
            "──────────────────────────────────────────────────\n",
            "Top 5 Apps in 'PRODUCTIVITY':\n",
            "            App   Installs\n",
            "   Google Drive 1000000000\n",
            "        Dropbox  500000000\n",
            " Microsoft Word  500000000\n",
            "    Cloud Print  500000000\n",
            "Google Calendar  500000000\n",
            "──────────────────────────────────────────────────\n"
          ]
        }
      ]
    }
  ]
}